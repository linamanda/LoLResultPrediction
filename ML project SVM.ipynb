{
 "cells": [
  {
   "cell_type": "code",
   "execution_count": 56,
   "metadata": {},
   "outputs": [],
   "source": [
    "# Importing the libraries to be used:\n",
    "import numpy as np\n",
    "import pandas as pd\n",
    "from sklearn import linear_model\n",
    "from sklearn import preprocessing\n",
    "from sklearn.model_selection import train_test_split\n",
    "import matplotlib.pyplot as plt\n",
    "%matplotlib inline "
   ]
  },
  {
   "cell_type": "code",
   "execution_count": 57,
   "metadata": {},
   "outputs": [],
   "source": [
    "#Importing dataset"
   ]
  },
  {
   "cell_type": "code",
   "execution_count": 58,
   "metadata": {},
   "outputs": [],
   "source": [
    "lol_df = pd.read_csv('games.csv')\n",
    "lol_df2 = lol_df[['gameDuration', 'winner','firstBlood', 'firstTower', 'firstInhibitor', 'firstBaron', 'firstDragon', 'firstRiftHerald', 't1_towerKills', 't1_inhibitorKills', 't1_baronKills', 't1_dragonKills', 't1_riftHeraldKills', 't2_towerKills', 't2_inhibitorKills', 't2_baronKills', 't2_dragonKills', 't2_riftHeraldKills']]\n",
    "lol_X = lol_df2[['gameDuration', 'firstBlood', 'firstTower', 'firstInhibitor', 'firstBaron', 'firstDragon', 'firstRiftHerald', 't1_towerKills', 't1_inhibitorKills', 't1_baronKills', 't1_dragonKills', 't1_riftHeraldKills', 't2_towerKills', 't2_inhibitorKills', 't2_baronKills', 't2_dragonKills', 't2_riftHeraldKills']]\n",
    "lol_X = np.array(lol_X)\n",
    "lol_Y = lol_df2[['winner']]\n",
    "lol_Y = np.array(lol_Y)"
   ]
  },
  {
   "cell_type": "code",
   "execution_count": 59,
   "metadata": {},
   "outputs": [],
   "source": [
    "#scaling"
   ]
  },
  {
   "cell_type": "code",
   "execution_count": 70,
   "metadata": {},
   "outputs": [
    {
     "name": "stdout",
     "output_type": "stream",
     "text": [
      "(38617, 1)\n",
      "(38617, 1)\n"
     ]
    }
   ],
   "source": [
    "lol_X_scale = preprocessing.scale(lol_X)\n",
    "X_train, X_test, y_train, y_test = train_test_split(lol_X_scale, lol_Y, test_size = 0.25, train_size = 0.75, random_state = 42)\n",
    "#y_2d_train = y_train.reshape(y_train.shape[0], 1)\n",
    "#y_2d_test = y_test.reshape(y_test.shape[0], 1)"
   ]
  },
  {
   "cell_type": "code",
   "execution_count": 61,
   "metadata": {},
   "outputs": [],
   "source": [
    "#SVM Linear Kernel"
   ]
  },
  {
   "cell_type": "code",
   "execution_count": 62,
   "metadata": {},
   "outputs": [],
   "source": [
    "acc_train_svm_linear = []\n",
    "acc_test_svm_linear = []\n",
    "c_svm_linear = []\n",
    "cVals = [0.0001, 0.001, 0.01, 0.1, 1, 10]"
   ]
  },
  {
   "cell_type": "code",
   "execution_count": 63,
   "metadata": {},
   "outputs": [],
   "source": [
    "from sklearn import svm\n",
    "\n",
    "# Complete the function below:\n",
    "# In this function and next 2 functions, we are not passing the data matrices as parameters \n",
    "# because we can use global variables inside the functions.\n",
    "def svm_linear(c):\n",
    "    # TODO - Create an object of svm.SVC(probability = False, kernel = 'linear', C = c) - 5 points\n",
    "    svc_linear = svm.SVC(probability = False, kernel = 'linear', C=c)\n",
    "    \n",
    "    # TODO - Fit the classifier on the training set - 5 points\n",
    "    svc_linear.fit(X_train, y_train.ravel())\n",
    "    \n",
    "    # TODO - Find the prediction and accuracy on the training set - 5 points\n",
    "    Yhat_svc_linear_train = svc_linear.predict(X_train)\n",
    "    acc_train = svc_linear.score(X_train, y_train.ravel())\n",
    "    \n",
    "    # Adding testing accuracy to acc_train_svm\n",
    "    acc_train_svm_linear.append(acc_train)\n",
    "    print('Train Accuracy = {0:f}'.format(acc_train))\n",
    "    \n",
    "    # TODO - Find the prediction and accuracy on the test set - 5 points\n",
    "    Yhat_svc_linear_test = svc_linear.predict(X_test)\n",
    "    acc_test = svc_linear.score(X_test, y_test.ravel())\n",
    "    \n",
    "    # Adding testing accuracy to acc_test_svm\n",
    "    acc_test_svm_linear.append(acc_test)\n",
    "    print('Test Accuracy = {0:f}'.format(acc_test))\n",
    "    \n",
    "    # Appending value of c for graphing purposes\n",
    "    c_svm_linear.append(c)\n",
    "    "
   ]
  },
  {
   "cell_type": "code",
   "execution_count": 64,
   "metadata": {},
   "outputs": [
    {
     "name": "stdout",
     "output_type": "stream",
     "text": [
      "Train Accuracy = 0.944299\n",
      "Test Accuracy = 0.946632\n",
      "Train Accuracy = 0.958697\n",
      "Test Accuracy = 0.959450\n",
      "Train Accuracy = 0.961131\n",
      "Test Accuracy = 0.962091\n",
      "Train Accuracy = 0.960872\n",
      "Test Accuracy = 0.961470\n",
      "Train Accuracy = 0.961002\n",
      "Test Accuracy = 0.961159\n",
      "Train Accuracy = 0.961002\n",
      "Test Accuracy = 0.961159\n"
     ]
    }
   ],
   "source": [
    "# Call the above function i.e. svm_linear with different values of parameter 'c'.\n",
    "# Start with smaller values of 'c' say 0.0001, 0.001, 0.01, 0.1, 1, 10, 100\n",
    "for c in cVals:\n",
    "    svm_linear(c)"
   ]
  },
  {
   "cell_type": "code",
   "execution_count": 65,
   "metadata": {},
   "outputs": [
    {
     "data": {
      "image/png": "[encoded data removed]",
      "text/plain": [
       "<Figure size 432x288 with 1 Axes>"
      ]
     },
     "metadata": {
      "needs_background": "light"
     },
     "output_type": "display_data"
    }
   ],
   "source": [
    "# TODO - Write code to plot 2 plots - 10 points\n",
    "# Plot training accuracy(Y-axis) v/s 'c' on X - Axis.\n",
    "# Plot test accuracy(Y-Axis) v/s 'c' on X - Axis.\n",
    "plt.xlabel('c')\n",
    "plt.ylabel('accuracy')\n",
    "plt.plot(c_svm_linear, acc_train_svm_linear, '-o')\n",
    "plt.plot(c_svm_linear, acc_test_svm_linear, '-o')\n",
    "plt.xscale('log')\n",
    "plt.title(\"SVM Linear Kernel Accuracy vs c\")\n",
    "# Use the following function to have a legend\n",
    "plt.legend(['Training Accuracy', 'Test Accuracy'], loc='lower right')\n",
    "plt.grid()\n",
    "plt.show(block=False)\n",
    "\n"
   ]
  },
  {
   "cell_type": "code",
   "execution_count": 71,
   "metadata": {},
   "outputs": [],
   "source": [
    "#SVM Radial"
   ]
  },
  {
   "cell_type": "code",
   "execution_count": 72,
   "metadata": {},
   "outputs": [],
   "source": [
    "acc_train_svm_rbf = []\n",
    "acc_test_svm_rbf = []\n",
    "c_svm_rbf = []"
   ]
  },
  {
   "cell_type": "code",
   "execution_count": 75,
   "metadata": {},
   "outputs": [],
   "source": [
    "from sklearn import svm\n",
    "\n",
    "# Complete the function below:\n",
    "# In this function and next 2 functions, we are not passing the data matrices as parameters \n",
    "# because we can use global variables inside the functions.\n",
    "def svm_rbf(c):\n",
    "    # TODO - Create an object of svm.SVC(probability = False, kernel = 'rbf', C = c) - 5 points\n",
    "    svc_rbf = svm.SVC(probability = False, kernel = 'rbf', C = c)\n",
    "    \n",
    "    # TODO - Fit the classifier on the training set - 5 points\n",
    "    svc_rbf.fit(X_train, y_train.ravel())\n",
    "    \n",
    "    # TODO - Find the prediction and accuracy on the training set - 5 points\n",
    "    Yhat_svc_rbf_train = svc_rbf.predict(X_train)\n",
    "    acc_train = svc_rbf.score(X_train, y_train.ravel())\n",
    "    \n",
    "    # Adding testing accuracy to acc_train_svm\n",
    "    acc_train_svm_rbf.append(acc_train)\n",
    "    print('Train Accuracy = {0:f}'.format(acc_train))\n",
    "    \n",
    "    # TODO - Find the prediction and accuracy on the test set - 5 points\n",
    "    Yhat_svc_rbf_test = svc_rbf.predict(X_test)\n",
    "    acc_test = svc_rbf.score(X_test, y_test.ravel())\n",
    "    \n",
    "    # Adding testing accuracy to acc_test_svm\n",
    "    acc_test_svm_rbf.append(acc_test)\n",
    "    print('Test Accuracy = {0:f}'.format(acc_test))\n",
    "    \n",
    "    # Appending value of c for graphing purposes\n",
    "    c_svm_rbf.append(c)"
   ]
  },
  {
   "cell_type": "code",
   "execution_count": 76,
   "metadata": {},
   "outputs": [
    {
     "name": "stdout",
     "output_type": "stream",
     "text": [
      "Train Accuracy = 0.578761\n",
      "Test Accuracy = 0.580828\n",
      "Train Accuracy = 0.936531\n",
      "Test Accuracy = 0.939952\n",
      "Train Accuracy = 0.954994\n",
      "Test Accuracy = 0.956653\n",
      "Train Accuracy = 0.968408\n",
      "Test Accuracy = 0.965898\n",
      "Train Accuracy = 0.974648\n",
      "Test Accuracy = 0.967374\n",
      "Train Accuracy = 0.980760\n",
      "Test Accuracy = 0.967451\n"
     ]
    }
   ],
   "source": [
    "for c in cVals:\n",
    "    svm_rbf(c)"
   ]
  },
  {
   "cell_type": "code",
   "execution_count": 78,
   "metadata": {},
   "outputs": [
    {
     "data": {
      "image/png": "[encoded data removed]",
      "text/plain": [
       "<Figure size 432x288 with 1 Axes>"
      ]
     },
     "metadata": {
      "needs_background": "light"
     },
     "output_type": "display_data"
    }
   ],
   "source": [
    "# TODO - Write code to plot 2 plots - 10 points\n",
    "# Plot training accuracy(Y-axis) v/s 'c' on X - Axis.\n",
    "# Plot test accuracy(Y-Axis) v/s 'c' on X - Axis.\n",
    "plt.xlabel('c')\n",
    "plt.ylabel('accuracy')\n",
    "plt.plot(c_svm_rbf, acc_train_svm_rbf, '-o')\n",
    "plt.plot(c_svm_rbf, acc_test_svm_rbf, '-o')\n",
    "plt.xscale('log')\n",
    "plt.title(\"SVM RBF Kernel Accuracy vs c\")\n",
    "# Use the following function to have a legend\n",
    "plt.legend(['Training Accuracy', 'Test Accuracy'], loc='upper right')\n",
    "plt.grid()\n",
    "plt.show(block=False)"
   ]
  },
  {
   "cell_type": "code",
   "execution_count": 79,
   "metadata": {},
   "outputs": [],
   "source": [
    "#SVM Polynomial"
   ]
  },
  {
   "cell_type": "code",
   "execution_count": 80,
   "metadata": {},
   "outputs": [],
   "source": [
    "acc_train_svm_poly = []\n",
    "acc_test_svm_poly = []\n",
    "c_svm_poly = []"
   ]
  },
  {
   "cell_type": "code",
   "execution_count": 81,
   "metadata": {},
   "outputs": [],
   "source": [
    "def svm_polynomial(c):\n",
    "    # TODO - Create an object of svm.SVC(probability = False, kernel = 'poly', C = c) - 5 points\n",
    "    svc_polynomial = svm.SVC(probability = False, kernel = 'poly', C=c)\n",
    "    \n",
    "    A = X_train[0:300,:]  # First 300 rows of training set.\n",
    "    B = Y_train[0:300]  \n",
    "    C = X_test[0:100,:]   # First 100 rows of test set.\n",
    "    D = Y_test[0:100]\n",
    "    \n",
    "    # TODO - Fit the classifier on the training set - 5 points\n",
    "    # Use A and B to train and C and D to test.\n",
    "    svc_polynomial.fit(A, B.ravel())\n",
    "    # TODO - Find the prediction and accuracy on the training set - 5 points\n",
    "    Yhat_svc_poly_train = svc_polynomial.predict(A)\n",
    "    acc_train = svc_polynomial.score(A, B.ravel())\n",
    "    \n",
    "    # Adding testing accuracy to acc_train_svm\n",
    "    acc_train_svm_poly.append(acc_train)\n",
    "    print('Train Accuracy = {0:f}'.format(acc_train))\n",
    "    \n",
    "    # TODO - Find the prediction and accuracy on the test set - 5 points\n",
    "    Yhat_svc_poly_test = svc_polynomial.predict(C)\n",
    "    acc_test = svc_polynomial.score(C, D.ravel())\n",
    "    \n",
    "    # Adding testing accuracy to acc_test_svm\n",
    "    acc_test_svm_poly.append(acc_test)\n",
    "    print('Test Accuracy = {0:f}'.format(acc_test))\n",
    "    \n",
    "    # Appending value of c for graphing purposes\n",
    "    c_svm_poly.append(c)"
   ]
  },
  {
   "cell_type": "code",
   "execution_count": 82,
   "metadata": {},
   "outputs": [
    {
     "ename": "NameError",
     "evalue": "name 'Y_train' is not defined",
     "output_type": "error",
     "traceback": [
      "\u001b[1;31m---------------------------------------------------------------------------\u001b[0m",
      "\u001b[1;31mNameError\u001b[0m                                 Traceback (most recent call last)",
      "\u001b[1;32m<ipython-input-82-06655d964eaa>\u001b[0m in \u001b[0;36m<module>\u001b[1;34m\u001b[0m\n\u001b[0;32m      5\u001b[0m \u001b[0mcVals\u001b[0m \u001b[1;33m=\u001b[0m \u001b[1;33m[\u001b[0m\u001b[1;36m0.0001\u001b[0m\u001b[1;33m,\u001b[0m \u001b[1;36m0.001\u001b[0m\u001b[1;33m,\u001b[0m \u001b[1;36m0.01\u001b[0m\u001b[1;33m,\u001b[0m \u001b[1;36m0.1\u001b[0m\u001b[1;33m,\u001b[0m \u001b[1;36m1\u001b[0m\u001b[1;33m,\u001b[0m \u001b[1;36m10\u001b[0m\u001b[1;33m]\u001b[0m\u001b[1;33m\u001b[0m\u001b[1;33m\u001b[0m\u001b[0m\n\u001b[0;32m      6\u001b[0m \u001b[1;32mfor\u001b[0m \u001b[0mc\u001b[0m \u001b[1;32min\u001b[0m \u001b[0mcVals\u001b[0m\u001b[1;33m:\u001b[0m\u001b[1;33m\u001b[0m\u001b[1;33m\u001b[0m\u001b[0m\n\u001b[1;32m----> 7\u001b[1;33m     \u001b[0msvm_polynomial\u001b[0m\u001b[1;33m(\u001b[0m\u001b[0mc\u001b[0m\u001b[1;33m)\u001b[0m\u001b[1;33m\u001b[0m\u001b[1;33m\u001b[0m\u001b[0m\n\u001b[0m",
      "\u001b[1;32m<ipython-input-81-8a0b1d5c9814>\u001b[0m in \u001b[0;36msvm_polynomial\u001b[1;34m(c)\u001b[0m\n\u001b[0;32m      4\u001b[0m \u001b[1;33m\u001b[0m\u001b[0m\n\u001b[0;32m      5\u001b[0m     \u001b[0mA\u001b[0m \u001b[1;33m=\u001b[0m \u001b[0mX_train\u001b[0m\u001b[1;33m[\u001b[0m\u001b[1;36m0\u001b[0m\u001b[1;33m:\u001b[0m\u001b[1;36m300\u001b[0m\u001b[1;33m,\u001b[0m\u001b[1;33m:\u001b[0m\u001b[1;33m]\u001b[0m  \u001b[1;31m# First 300 rows of training set.\u001b[0m\u001b[1;33m\u001b[0m\u001b[1;33m\u001b[0m\u001b[0m\n\u001b[1;32m----> 6\u001b[1;33m     \u001b[0mB\u001b[0m \u001b[1;33m=\u001b[0m \u001b[0mY_train\u001b[0m\u001b[1;33m[\u001b[0m\u001b[1;36m0\u001b[0m\u001b[1;33m:\u001b[0m\u001b[1;36m300\u001b[0m\u001b[1;33m]\u001b[0m\u001b[1;33m\u001b[0m\u001b[1;33m\u001b[0m\u001b[0m\n\u001b[0m\u001b[0;32m      7\u001b[0m     \u001b[0mC\u001b[0m \u001b[1;33m=\u001b[0m \u001b[0mX_test\u001b[0m\u001b[1;33m[\u001b[0m\u001b[1;36m0\u001b[0m\u001b[1;33m:\u001b[0m\u001b[1;36m100\u001b[0m\u001b[1;33m,\u001b[0m\u001b[1;33m:\u001b[0m\u001b[1;33m]\u001b[0m   \u001b[1;31m# First 100 rows of test set.\u001b[0m\u001b[1;33m\u001b[0m\u001b[1;33m\u001b[0m\u001b[0m\n\u001b[0;32m      8\u001b[0m     \u001b[0mD\u001b[0m \u001b[1;33m=\u001b[0m \u001b[0mY_test\u001b[0m\u001b[1;33m[\u001b[0m\u001b[1;36m0\u001b[0m\u001b[1;33m:\u001b[0m\u001b[1;36m100\u001b[0m\u001b[1;33m]\u001b[0m\u001b[1;33m\u001b[0m\u001b[1;33m\u001b[0m\u001b[0m\n",
      "\u001b[1;31mNameError\u001b[0m: name 'Y_train' is not defined"
     ]
    }
   ],
   "source": [
    "# Call the above function i.e. svm_poly with different values of parameter 'c'.\n",
    "# Start with smaller values of 'c' say 0.0001, 0.001, 0.01, 0.1, 1, 10, 100\n",
    "# Redefining cVals because poly takes a long time to run with larger values of c since \n",
    "# the larger the value of c, the lesser the amount of regulatization\n",
    "cVals = [0.0001, 0.001, 0.01, 0.1, 1, 10]\n",
    "for c in cVals:\n",
    "    svm_polynomial(c)"
   ]
  },
  {
   "cell_type": "code",
   "execution_count": null,
   "metadata": {},
   "outputs": [],
   "source": [
    "# TODO - Write code to plot 2 plots - 10 points\n",
    "# Plot training accuracy(Y-axis) v/s 'c' on X - Axis.\n",
    "# Plot test accuracy(Y-Axis) v/s 'c' on X - Axis.\n",
    "plt.xlabel('c')\n",
    "plt.ylabel('accuracy')\n",
    "plt.plot(c_svm_poly, acc_train_svm_poly, '-o')\n",
    "plt.plot(c_svm_poly, acc_test_svm_poly, '-o')\n",
    "plt.xscale('log')\n",
    "plt.title(\"SVM Polynomial Kernel Accuracy vs c\")\n",
    "# Use the following function to have a legend\n",
    "plt.legend(['Training Accuracy', 'Test Accuracy'], loc='lower right')\n",
    "plt.grid()\n",
    "plt.show(block=False)"
   ]
  },
  {
   "cell_type": "code",
   "execution_count": null,
   "metadata": {},
   "outputs": [],
   "source": []
  }
 ],
 "metadata": {
  "kernelspec": {
   "display_name": "Python 3",
   "language": "python",
   "name": "python3"
  },
  "language_info": {
   "codemirror_mode": {
    "name": "ipython",
    "version": 3
   },
   "file_extension": ".py",
   "mimetype": "text/x-python",
   "name": "python",
   "nbconvert_exporter": "python",
   "pygments_lexer": "ipython3",
   "version": "3.8.5"
  }
 },
 "nbformat": 4,
 "nbformat_minor": 4
}
