{
 "cells": [
  {
   "cell_type": "markdown",
   "metadata": {},
   "source": [
    "## Data Loadout"
   ]
  },
  {
   "cell_type": "code",
   "execution_count": 56,
   "metadata": {},
   "outputs": [
    {
     "name": "stdout",
     "output_type": "stream",
     "text": [
      "[[1949    0    2 ...    0    1    1]\n",
      " [1851    0    1 ...    0    0    0]\n",
      " [1493    0    2 ...    0    1    0]\n",
      " ...\n",
      " [2156    1    2 ...    0    2    0]\n",
      " [1475    1    2 ...    0    1    0]\n",
      " [1445    0    1 ...    0    1    0]]\n"
     ]
    }
   ],
   "source": [
    "import sklearn\n",
    "import pandas as pd\n",
    "from sklearn.linear_model import LogisticRegression\n",
    "from sklearn import preprocessing\n",
    "from sklearn.model_selection import train_test_split\n",
    "from sklearn.metrics import precision_recall_fscore_support\n",
    "from sklearn.model_selection import KFold\n",
    "import numpy as np\n",
    "\n",
    "import matplotlib.pyplot as plt\n",
    "%matplotlib inline\n",
    "\n",
    "lol_df = pd.read_csv('games.csv')\n",
    "lol_df2 = lol_df[['gameDuration', 'winner', 'firstBlood', 'firstTower', 'firstInhibitor', 'firstBaron', 'firstDragon', 'firstRiftHerald', 't1_towerKills', 't1_inhibitorKills', 't1_baronKills', 't1_dragonKills', 't1_riftHeraldKills', 't2_towerKills', 't2_inhibitorKills', 't2_baronKills', 't2_dragonKills', 't2_riftHeraldKills']]\n",
    "lol_data = np.array(lol_df2)\n",
    "print(lol_data)"
   ]
  },
  {
   "cell_type": "markdown",
   "metadata": {},
   "source": [
    "## Logistic Regression"
   ]
  },
  {
   "cell_type": "markdown",
   "metadata": {},
   "source": [
    "### Sigmoid Function and Gradient Ascent"
   ]
  },
  {
   "cell_type": "code",
   "execution_count": 58,
   "metadata": {},
   "outputs": [
    {
     "name": "stdout",
     "output_type": "stream",
     "text": [
      "Training Accuracy:  0.9604231356244408\n",
      "Testing Accuracy:  0.9611888388269701\n"
     ]
    }
   ],
   "source": [
    "# Setting the X and Y matrices\n",
    "lol_X = lol_df2[['gameDuration', 'firstBlood', 'firstTower', 'firstInhibitor', 'firstBaron', 'firstDragon', 'firstRiftHerald', 't1_towerKills', 't1_inhibitorKills', 't1_baronKills', 't1_dragonKills', 't1_riftHeraldKills', 't2_towerKills', 't2_inhibitorKills', 't2_baronKills', 't2_dragonKills', 't2_riftHeraldKills']]\n",
    "lol_X = np.array(lol_X)\n",
    "lol_Y = lol_df2[['winner']]\n",
    "lol_Y = np.array(lol_Y)\n",
    "\n",
    "lol_X_scale = preprocessing.scale(lol_X)\n",
    "X_train, X_test, y_train, y_test = train_test_split(lol_X_scale, lol_Y, test_size = 0.25, train_size = 0.75, random_state = 42)\n",
    "y_2d_train = y_train.reshape(y_train.shape[0], 1)\n",
    "y_2d_test = y_test.reshape(y_test.shape[0], 1)\n",
    "\n",
    "# Sigmoid function\n",
    "def sigmoid(z):\n",
    "    result = 1 / (1 + np.exp(-z))\n",
    "    return result\n",
    "\n",
    "# Column of 1's to X\n",
    "ones = np.ones((X_train.shape[0], 1))\n",
    "X_train_1 = np.hstack((ones, X_train))\n",
    "ones = np.ones((X_test.shape[0], 1))\n",
    "X_test_1 = np.hstack((ones, X_test))\n",
    "\n",
    "# Initialize w to 0\n",
    "w_init = np.zeros((X_train_1.shape[1], 1))\n",
    "\n",
    "# Hypothesis function\n",
    "def hypothesis(X_train_1, w):\n",
    "    y_hat = sigmoid(np.dot(X_train_1, w))\n",
    "    return y_hat\n",
    "\n",
    "y_hat_init = hypothesis(X_train_1, w_init)\n",
    "\n",
    "# Gradient ascent\n",
    "def Gradient_Ascent(X_train_1, y_2d_train, learning_rate, num_iters):\n",
    "    # Number of training examples.\n",
    "    N = X_train_1.shape[0]\n",
    "    # Initialize w(<np.ndarray>). Zeros vector of shape X_train.shape[1],1\n",
    "    w = np.zeros((X_train_1.shape[1], 1))\n",
    "    for i in range(num_iters):\n",
    "        y_hat = hypothesis(X_train_1, w)\n",
    "        error = y_2d_train - y_hat\n",
    "        gradient = np.dot(np.transpose(X_train_1), error)\n",
    "        # Updating Parameters\n",
    "        w = w + (learning_rate / N) * gradient\n",
    "        \n",
    "    return w\n",
    "\n",
    "# Precision_recall\n",
    "def precision_recall(y_hat, y, threshold):  \n",
    "    y_hat_binary = np.copy(y_hat)\n",
    "    for i in range(y_hat_binary.shape[0]):\n",
    "        if y_hat_binary[i] < threshold:\n",
    "            y_hat_binary[i] = 0\n",
    "        else:\n",
    "            y_hat_binary[i] = 1\n",
    "\n",
    "    false_difference = y - y_hat_binary\n",
    "    false_pos = np.sum(false_difference < 0)\n",
    "    false_neg = np.sum(false_difference > 0)\n",
    "\n",
    "    all_trues = np.ones((y.shape[0], 1)) \n",
    "    true_difference = all_trues - (y_hat_binary + y)\n",
    "    true_pos = np.sum(true_difference < 0)\n",
    "\n",
    "    precision = true_pos / (true_pos + false_pos)\n",
    "    recall = true_pos / (true_pos + false_neg)\n",
    "    return precision,recall\n",
    "\n",
    "# F1 score\n",
    "def f_score(precision, recall):\n",
    "    score = 2 * ((precision * recall) / (precision + recall))\n",
    "    return score\n",
    "\n",
    "# Predict\n",
    "def predict(X_train_1, w):\n",
    "    y_hat = hypothesis(X_train_1,w)\n",
    "    return y_hat\n",
    "\n",
    "learning_rate = 0.01\n",
    "num_iters = 10000\n",
    "w = Gradient_Ascent(X_train_1, y_2d_train, learning_rate, num_iters)\n",
    "\n",
    "y_hat = predict(X_train_1, w)\n",
    "precision_train, recall_train = precision_recall(y_hat, y_2d_train, 0.5)\n",
    "f_score_train = f_score(precision_train, recall_train)\n",
    "\n",
    "print(\"Training Accuracy: \", f_score_train)\n",
    "\n",
    "y_hat_test = predict(X_test_1, w)\n",
    "precision_test, recall_test = precision_recall(y_hat_test, y_2d_test, 0.5)\n",
    "f_score_test = f_score(precision_test, recall_test)\n",
    "\n",
    "print(\"Testing Accuracy: \", f_score_test)"
   ]
  },
  {
   "cell_type": "markdown",
   "metadata": {},
   "source": [
    "### SkLearn Library L1 Regularization"
   ]
  },
  {
   "cell_type": "code",
   "execution_count": 59,
   "metadata": {},
   "outputs": [
    {
     "name": "stdout",
     "output_type": "stream",
     "text": [
      "Training Accuracy:  0.9629696765673149\n",
      "Testing Accuracy:  0.9633341101530335\n"
     ]
    },
    {
     "name": "stderr",
     "output_type": "stream",
     "text": [
      "C:\\Users\\linam\\anaconda3\\lib\\site-packages\\sklearn\\utils\\validation.py:72: DataConversionWarning: A column-vector y was passed when a 1d array was expected. Please change the shape of y to (n_samples, ), for example using ravel().\n",
      "  return f(**kwargs)\n"
     ]
    },
    {
     "data": {
      "text/plain": [
       "Text(0, 0.5, 'Coefficient Value')"
      ]
     },
     "execution_count": 59,
     "metadata": {},
     "output_type": "execute_result"
    },
    {
     "data": {
      "image/png": "[encoded data removed]",
      "text/plain": [
       "<Figure size 432x288 with 1 Axes>"
      ]
     },
     "metadata": {
      "needs_background": "light"
     },
     "output_type": "display_data"
    }
   ],
   "source": [
    "logreg = LogisticRegression(C = 1)\n",
    "logreg.fit(X_train, y_train)\n",
    "y_hat_logreg = logreg.predict(X_train)\n",
    "acc_logreg_train = logreg.score(X_train, y_2d_train)\n",
    "acc_logreg_test = logreg.score(X_test, y_2d_test)\n",
    "\n",
    "w_logreg = logreg.coef_\n",
    "intercept_logreg = logreg.intercept_\n",
    "\n",
    "print(\"Training Accuracy: \", acc_logreg_train)\n",
    "print(\"Testing Accuracy: \", acc_logreg_test)\n",
    "\n",
    "plt.plot(w_logreg.flatten())\n",
    "plt.xlabel('Coefficient Number')\n",
    "plt.ylabel('Coefficient Value')"
   ]
  },
  {
   "cell_type": "markdown",
   "metadata": {},
   "source": [
    "### SkLearn Library L2 Regularization"
   ]
  },
  {
   "cell_type": "code",
   "execution_count": 60,
   "metadata": {},
   "outputs": [
    {
     "name": "stderr",
     "output_type": "stream",
     "text": [
      "C:\\Users\\linam\\anaconda3\\lib\\site-packages\\sklearn\\utils\\validation.py:72: DataConversionWarning: A column-vector y was passed when a 1d array was expected. Please change the shape of y to (n_samples, ), for example using ravel().\n",
      "  return f(**kwargs)\n"
     ]
    },
    {
     "name": "stdout",
     "output_type": "stream",
     "text": [
      "Training Accuracy:  0.9629696765673149\n",
      "Testing Accuracy:  0.9633341101530335\n"
     ]
    },
    {
     "data": {
      "text/plain": [
       "Text(0, 0.5, 'Coefficient Value')"
      ]
     },
     "execution_count": 60,
     "metadata": {},
     "output_type": "execute_result"
    },
    {
     "data": {
      "image/png": "[encoded data removed]",
      "text/plain": [
       "<Figure size 432x288 with 1 Axes>"
      ]
     },
     "metadata": {
      "needs_background": "light"
     },
     "output_type": "display_data"
    }
   ],
   "source": [
    "logreg_l2 = LogisticRegression(solver='liblinear', C=1, penalty='l2')\n",
    "logreg_l2.fit(X_train, y_train)\n",
    "y_hat_l2 = logreg_l2.predict(X_test)\n",
    "\n",
    "acc_logreg_l2_train = logreg.score(X_train, y_2d_train)\n",
    "acc_logreg_l2_test = logreg.score(X_test, y_2d_test)\n",
    "\n",
    "w_logreg_l2 = logreg.coef_\n",
    "intercept_logreg_l2 = logreg.intercept_\n",
    "\n",
    "print(\"Training Accuracy: \", acc_logreg_l2_train)\n",
    "print(\"Testing Accuracy: \", acc_logreg_l2_test)\n",
    "\n",
    "plt.plot(w_logreg_l2.flatten())\n",
    "plt.xlabel('Coefficient Number')\n",
    "plt.ylabel('Coefficient Value')"
   ]
  },
  {
   "cell_type": "code",
   "execution_count": null,
   "metadata": {},
   "outputs": [],
   "source": []
  }
 ],
 "metadata": {
  "kernelspec": {
   "display_name": "Python 3",
   "language": "python",
   "name": "python3"
  },
  "language_info": {
   "codemirror_mode": {
    "name": "ipython",
    "version": 3
   },
   "file_extension": ".py",
   "mimetype": "text/x-python",
   "name": "python",
   "nbconvert_exporter": "python",
   "pygments_lexer": "ipython3",
   "version": "3.8.5"
  }
 },
 "nbformat": 4,
 "nbformat_minor": 4
}
