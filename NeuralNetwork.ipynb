{
 "cells": [
  {
   "cell_type": "markdown",
   "metadata": {},
   "source": [
    "## Data Loadout\n",
    "Import all the libraries we will use for this project.  \n",
    "Load in the data into a numpy array.  \n",
    "Data: https://www.kaggle.com/datasnaek/league-of-legends  \n",
    "Neural networks code reused from Homework 6"
   ]
  },
  {
   "cell_type": "code",
   "execution_count": 110,
   "metadata": {},
   "outputs": [],
   "source": [
    "#Import files first\n",
    "from sklearn.preprocessing import StandardScaler  # For scaling data\n",
    "from sklearn.model_selection import train_test_split  # The standard - train/test to prevent overfitting and choose hyperparameters\n",
    "from sklearn.metrics import accuracy_score\n",
    "import pandas as pd\n",
    "import numpy as np\n",
    "import numpy.random as r # We will randomly initialize our weights\n",
    "import matplotlib.pyplot as plt "
   ]
  },
  {
   "cell_type": "code",
   "execution_count": 112,
   "metadata": {},
   "outputs": [
    {
     "name": "stdout",
     "output_type": "stream",
     "text": [
      "[[1949    2    1 ...    0    1    1]\n",
      " [1851    1    1 ...    0    0    0]\n",
      " [1493    2    1 ...    0    1    0]\n",
      " ...\n",
      " [2156    2    2 ...    0    2    0]\n",
      " [1475    2    2 ...    0    1    0]\n",
      " [1445    1    1 ...    0    1    0]]\n",
      "[[0]\n",
      " [0]\n",
      " [0]\n",
      " ...\n",
      " [1]\n",
      " [1]\n",
      " [0]]\n"
     ]
    }
   ],
   "source": [
    "# Importing data and separating features\n",
    "lol_df = pd.read_csv('games.csv')\n",
    "lol_df2 = lol_df[['gameDuration', 'winner','firstBlood', 'firstTower', 'firstInhibitor', 'firstBaron', 'firstDragon', 'firstRiftHerald', 't1_towerKills', 't1_inhibitorKills', 't1_baronKills', 't1_dragonKills', 't1_riftHeraldKills', 't2_towerKills', 't2_inhibitorKills', 't2_baronKills', 't2_dragonKills', 't2_riftHeraldKills']]\n",
    "lol_X = lol_df2[['gameDuration', 'firstBlood', 'firstTower', 'firstInhibitor', 'firstBaron', 'firstDragon', 'firstRiftHerald', 't1_towerKills', 't1_inhibitorKills', 't1_baronKills', 't1_dragonKills', 't1_riftHeraldKills', 't2_towerKills', 't2_inhibitorKills', 't2_baronKills', 't2_dragonKills', 't2_riftHeraldKills']]\n",
    "lol_X = np.array(lol_X)\n",
    "lol_Y = lol_df2[['winner']]\n",
    "lol_Y = np.array(lol_Y)\n",
    "\n",
    "print(lol_X)\n",
    "print(lol_Y)"
   ]
  },
  {
   "cell_type": "code",
   "execution_count": 114,
   "metadata": {},
   "outputs": [
    {
     "data": {
      "text/plain": [
       "array([ 0.22780135,  1.01611295, -0.83013151, -0.45628079,  0.08734089,\n",
       "       -0.77743196,  1.54200134,  1.39498948, -0.01387537,  2.78752472,\n",
       "        1.33643434, -0.5796078 , -0.14231362, -0.78413297, -0.67541854,\n",
       "       -0.33023792,  1.77900161])"
      ]
     },
     "execution_count": 114,
     "metadata": {},
     "output_type": "execute_result"
    }
   ],
   "source": [
    "# Scaling data\n",
    "X_scale = StandardScaler()\n",
    "lol_X_scale = X_scale.fit_transform(lol_X)\n",
    "\n",
    "lol_X_scale[0,:] # Looking the new features after scaling"
   ]
  },
  {
   "cell_type": "code",
   "execution_count": 116,
   "metadata": {},
   "outputs": [],
   "source": [
    "# Splitting training/testing data 25/75\n",
    "X_train, X_test, y_train, y_test = train_test_split(lol_X_scale, lol_Y, test_size = 0.75, train_size = 0.25)"
   ]
  },
  {
   "cell_type": "code",
   "execution_count": 117,
   "metadata": {},
   "outputs": [
    {
     "name": "stdout",
     "output_type": "stream",
     "text": [
      "[[0]\n",
      " [0]\n",
      " [1]\n",
      " [1]\n",
      " [0]\n",
      " [0]\n",
      " [1]\n",
      " [0]\n",
      " [1]\n",
      " [0]]\n",
      "[[1. 0.]\n",
      " [1. 0.]\n",
      " [0. 1.]\n",
      " [0. 1.]\n",
      " [1. 0.]\n",
      " [1. 0.]\n",
      " [0. 1.]\n",
      " [1. 0.]\n",
      " [0. 1.]\n",
      " [1. 0.]]\n"
     ]
    }
   ],
   "source": [
    "# Setting up the output layer\n",
    "def convert_y_to_vect(y):\n",
    "    y_vect = np.zeros((len(y), 2))\n",
    "    for i in range(len(y)):\n",
    "        y_vect[i, y[i]] = 1\n",
    "    return y_vect\n",
    "\n",
    "# Convert digits to vectors\n",
    "y_v_train = convert_y_to_vect(y_train)\n",
    "y_v_test = convert_y_to_vect(y_test)\n",
    "\n",
    "# Check\n",
    "print(y_train[0:10])\n",
    "print(y_v_train[0:10])"
   ]
  },
  {
   "cell_type": "markdown",
   "metadata": {},
   "source": [
    "## Neural Network Functions\n",
    "Additional functions needed to implement neural networks.  \n",
    "Functions taken from Homework 6."
   ]
  },
  {
   "cell_type": "code",
   "execution_count": 165,
   "metadata": {},
   "outputs": [],
   "source": [
    "# Activation function - Sigmoid\n",
    "def f(z):\n",
    "    # Sigmoid\n",
    "    return 1 / (1 + np.exp(-z))\n",
    "\n",
    "def f_deriv(z):\n",
    "    # Sigmoid\n",
    "    return f(z) * (1 - f(z))"
   ]
  },
  {
   "cell_type": "code",
   "execution_count": 166,
   "metadata": {},
   "outputs": [],
   "source": [
    "# Creating and initializing W and b to random weights - optimal for sigmoid function\n",
    "def setup_and_init_weights(nn_structure):\n",
    "    W = {} #creating a dictionary i.e. a set of key: value pairs\n",
    "    b = {}\n",
    "    for l in range(1, len(nn_structure)):\n",
    "        W[l] = r.random_sample((nn_structure[l], nn_structure[l-1])) #Return “continuous uniform” random floats in the half-open interval [0.0, 1.0). \n",
    "        b[l] = r.random_sample((nn_structure[l],))\n",
    "    return W, b"
   ]
  },
  {
   "cell_type": "code",
   "execution_count": 125,
   "metadata": {},
   "outputs": [],
   "source": [
    "#Initializing▿𝑊 and▿𝑏 to zero arrays\n",
    "def init_tri_values(nn_structure):\n",
    "    tri_W = {}\n",
    "    tri_b = {}\n",
    "    for l in range(1, len(nn_structure)):\n",
    "        tri_W[l] = np.zeros((nn_structure[l], nn_structure[l-1]))\n",
    "        tri_b[l] = np.zeros((nn_structure[l],))\n",
    "    return tri_W, tri_b"
   ]
  },
  {
   "cell_type": "code",
   "execution_count": 127,
   "metadata": {},
   "outputs": [],
   "source": [
    "# Feed forward\n",
    "def feed_forward(x, W, b):\n",
    "    a = {1: x} # create a dictionary for holding the a values for all levels\n",
    "    z = { } # create a dictionary for holding the z values for all the layers\n",
    "    for l in range(1, len(W) + 1): # for each layer\n",
    "        node_in = a[l]\n",
    "        z[l+1] = W[l].dot(node_in) + b[l]  # z^(l+1) = W^(l)*a^(l) + b^(l)\n",
    "        a[l+1] = f(z[l+1]) # a^(l+1) = f(z^(l+1))\n",
    "    return a, z"
   ]
  },
  {
   "cell_type": "code",
   "execution_count": 129,
   "metadata": {},
   "outputs": [],
   "source": [
    "# Compute 𝛿\n",
    "def calculate_out_layer_delta(y, a_out, z_out):\n",
    "    # delta^(nl) = -(y_i - a_i^(nl)) * f'(z_i^(nl))\n",
    "    return -(y-a_out) * f_deriv(z_out) \n",
    "\n",
    "\n",
    "def calculate_hidden_delta(delta_plus_1, w_l, z_l):\n",
    "    # delta^(l) = (transpose(W^(l)) * delta^(l+1)) * f'(z^(l))\n",
    "    return np.dot(np.transpose(w_l), delta_plus_1) * f_deriv(z_l)"
   ]
  },
  {
   "cell_type": "code",
   "execution_count": 141,
   "metadata": {},
   "outputs": [],
   "source": [
    "# Complete neural network function with back propagation\n",
    "def train_nn(nn_structure, X, y, iter_num=3000, alpha=0.25, lambda_var=0.001):\n",
    "    W, b = setup_and_init_weights(nn_structure)\n",
    "    cnt = 0\n",
    "    N = len(y)\n",
    "    avg_cost_func = []\n",
    "    print('Starting gradient descent for {} iterations'.format(iter_num))\n",
    "    while cnt < iter_num:\n",
    "        if cnt%100 == 0:\n",
    "            print('Iteration {} of {}'.format(cnt, iter_num))\n",
    "            \n",
    "        tri_W, tri_b = init_tri_values(nn_structure)\n",
    "        avg_cost = 0\n",
    "        for i in range(N):\n",
    "            delta = {}\n",
    "            # perform the feed forward pass and return the stored a and z values, to be used in the\n",
    "            # gradient descent step\n",
    "            a, z = feed_forward(X[i, :], W, b)\n",
    "            # loop from nl-1 to 1 backpropagating the errors\n",
    "            for l in range(len(nn_structure), 0, -1):\n",
    "                if l == len(nn_structure):\n",
    "                    delta[l] = calculate_out_layer_delta(y[i,:], a[l], z[l])\n",
    "                    avg_cost += np.linalg.norm((y[i,:]-a[l]))\n",
    "                else:\n",
    "                    if l > 1:\n",
    "                        delta[l] = calculate_hidden_delta(delta[l+1], W[l], z[l])\n",
    "                    # triW^(l) = triW^(l) + delta^(l+1) * transpose(a^(l))\n",
    "                    tri_W[l] += np.dot(delta[l+1][:,np.newaxis], np.transpose(a[l][:,np.newaxis]))# np.newaxis increase the number of dimensions\n",
    "                    # trib^(l) = trib^(l) + delta^(l+1)\n",
    "                    tri_b[l] += delta[l+1]\n",
    "        # perform the gradient descent step for the weights in each layer\n",
    "        for l in range(len(nn_structure) - 1, 0, -1):\n",
    "            # W[l] += -alpha * (1.0/N * tri_W[l])\n",
    "            # regularization\n",
    "            W[l] += -alpha * ((1.0/N * tri_W[l]) + (lambda_var*W[l]))\n",
    "            b[l] += -alpha * (1.0/N * tri_b[l])\n",
    "        # complete the average cost calculation\n",
    "        avg_cost = 1.0/N * avg_cost\n",
    "        avg_cost_func.append(avg_cost)\n",
    "        cnt += 1\n",
    "        \n",
    "    return W, b, avg_cost_func\n",
    "\n",
    "\n",
    "def predict_y(W, b, X, n_layers):\n",
    "    N = X.shape[0]\n",
    "    y = np.zeros((N,))\n",
    "    for i in range(N):\n",
    "        a, z = feed_forward(X[i, :], W, b)\n",
    "        y[i] = np.argmax(a[n_layers])\n",
    "    return y"
   ]
  },
  {
   "cell_type": "markdown",
   "metadata": {},
   "source": [
    "## Neural Network with Sigmoid Function, 1000 Iterations, Alpha = 0.25, Lambda = 0.001\n",
    "\n",
    "Running the neural network using the sigmoid function as the activation function, 1000 iterations, alpha = 0.25, and lambda = 0.001.  \n",
    "Plotting the average cost per iteration and displaying the final train/test accuracy."
   ]
  },
  {
   "cell_type": "code",
   "execution_count": 143,
   "metadata": {},
   "outputs": [
    {
     "name": "stdout",
     "output_type": "stream",
     "text": [
      "Starting gradient descent for 1000 iterations\n",
      "Iteration 0 of 1000\n",
      "Iteration 100 of 1000\n",
      "Iteration 200 of 1000\n",
      "Iteration 300 of 1000\n",
      "Iteration 400 of 1000\n",
      "Iteration 500 of 1000\n",
      "Iteration 600 of 1000\n",
      "Iteration 700 of 1000\n",
      "Iteration 800 of 1000\n",
      "Iteration 900 of 1000\n"
     ]
    },
    {
     "data": {
      "image/png": "[encoded data removed]",
      "text/plain": [
       "<Figure size 432x288 with 1 Axes>"
      ]
     },
     "metadata": {
      "needs_background": "light"
     },
     "output_type": "display_data"
    },
    {
     "name": "stdout",
     "output_type": "stream",
     "text": [
      "Prediction accuracy on training data is 94.10348042262274%\n",
      "Prediction accuracy on testing data is 94.15039618830598%\n"
     ]
    }
   ],
   "source": [
    "nn_structure = [17, 15, 2]\n",
    "    \n",
    "# train the NN\n",
    "W, b, avg_cost_func = train_nn(nn_structure, X_train, y_v_train, 1000)\n",
    "\n",
    "# plot the avg_cost_func\n",
    "plt.plot(avg_cost_func)\n",
    "plt.ylabel('Average J')\n",
    "plt.xlabel('Iteration number')\n",
    "plt.show()\n",
    "\n",
    "# get the prediction accuracy and print\n",
    "y_pred = predict_y(W, b, X_train, 3)\n",
    "print('Prediction accuracy on training data is {}%'.format(accuracy_score(y_train, y_pred) * 100))\n",
    "\n",
    "y_pred = predict_y(W, b, X_test, 3)\n",
    "print('Prediction accuracy on testing data is {}%'.format(accuracy_score(y_test, y_pred) * 100))"
   ]
  },
  {
   "cell_type": "markdown",
   "metadata": {},
   "source": [
    "## Neural Network with Sigmoid Function, 2000 Iterations, Alpha = 0.25, Lambda = 0.001\n",
    "\n",
    "Running the neural network using the sigmoid function as the activation function, 2000 iterations, alpha = 0.25, and lambda = 0.001.  \n",
    "Plotting the average cost per iteration and displaying the final train/test accuracy."
   ]
  },
  {
   "cell_type": "code",
   "execution_count": 167,
   "metadata": {},
   "outputs": [
    {
     "name": "stdout",
     "output_type": "stream",
     "text": [
      "Starting gradient descent for 2000 iterations\n",
      "Iteration 0 of 2000\n",
      "Iteration 100 of 2000\n",
      "Iteration 200 of 2000\n",
      "Iteration 300 of 2000\n",
      "Iteration 400 of 2000\n",
      "Iteration 500 of 2000\n",
      "Iteration 600 of 2000\n",
      "Iteration 700 of 2000\n",
      "Iteration 800 of 2000\n",
      "Iteration 900 of 2000\n",
      "Iteration 1000 of 2000\n",
      "Iteration 1100 of 2000\n",
      "Iteration 1200 of 2000\n",
      "Iteration 1300 of 2000\n",
      "Iteration 1400 of 2000\n",
      "Iteration 1500 of 2000\n",
      "Iteration 1600 of 2000\n",
      "Iteration 1700 of 2000\n",
      "Iteration 1800 of 2000\n",
      "Iteration 1900 of 2000\n"
     ]
    },
    {
     "data": {
      "image/png": "[encoded data removed]",
      "text/plain": [
       "<Figure size 432x288 with 1 Axes>"
      ]
     },
     "metadata": {
      "needs_background": "light"
     },
     "output_type": "display_data"
    },
    {
     "name": "stdout",
     "output_type": "stream",
     "text": [
      "Prediction accuracy on training data is 95.79707893101305%\n",
      "Prediction accuracy on testing data is 95.8154228598063%\n"
     ]
    }
   ],
   "source": [
    "nn_structure = [17, 15, 2]\n",
    "    \n",
    "# train the NN\n",
    "W, b, avg_cost_func = train_nn(nn_structure, X_train, y_v_train, 2000)\n",
    "\n",
    "# plot the avg_cost_func\n",
    "plt.plot(avg_cost_func)\n",
    "plt.ylabel('Average J')\n",
    "plt.xlabel('Iteration number')\n",
    "plt.show()\n",
    "\n",
    "# get the prediction accuracy and print\n",
    "y_pred = predict_y(W, b, X_train, 3)\n",
    "print('Prediction accuracy on training data is {}%'.format(accuracy_score(y_train, y_pred) * 100))\n",
    "\n",
    "y_pred = predict_y(W, b, X_test, 3)\n",
    "print('Prediction accuracy on testing data is {}%'.format(accuracy_score(y_test, y_pred) * 100))"
   ]
  },
  {
   "cell_type": "markdown",
   "metadata": {},
   "source": [
    "## Neural Network with Sigmoid Function, 3000 Iterations, Alpha = 0.25, Lambda = 0.001\n",
    "\n",
    "Running the neural network using the sigmoid function as the activation function, 3000 iterations, alpha = 0.25, and lambda = 0.001.  \n",
    "Plotting the average cost per iteration and displaying the final train/test accuracy."
   ]
  },
  {
   "cell_type": "code",
   "execution_count": 168,
   "metadata": {},
   "outputs": [
    {
     "name": "stdout",
     "output_type": "stream",
     "text": [
      "Starting gradient descent for 3000 iterations\n",
      "Iteration 0 of 3000\n",
      "Iteration 100 of 3000\n",
      "Iteration 200 of 3000\n",
      "Iteration 300 of 3000\n",
      "Iteration 400 of 3000\n",
      "Iteration 500 of 3000\n",
      "Iteration 600 of 3000\n",
      "Iteration 700 of 3000\n",
      "Iteration 800 of 3000\n",
      "Iteration 900 of 3000\n",
      "Iteration 1000 of 3000\n",
      "Iteration 1100 of 3000\n",
      "Iteration 1200 of 3000\n",
      "Iteration 1300 of 3000\n",
      "Iteration 1400 of 3000\n",
      "Iteration 1500 of 3000\n",
      "Iteration 1600 of 3000\n",
      "Iteration 1700 of 3000\n",
      "Iteration 1800 of 3000\n",
      "Iteration 1900 of 3000\n",
      "Iteration 2000 of 3000\n",
      "Iteration 2100 of 3000\n",
      "Iteration 2200 of 3000\n",
      "Iteration 2300 of 3000\n",
      "Iteration 2400 of 3000\n",
      "Iteration 2500 of 3000\n",
      "Iteration 2600 of 3000\n",
      "Iteration 2700 of 3000\n",
      "Iteration 2800 of 3000\n",
      "Iteration 2900 of 3000\n"
     ]
    },
    {
     "data": {
      "image/png": "[encoded data removed]",
      "text/plain": [
       "<Figure size 432x288 with 1 Axes>"
      ]
     },
     "metadata": {
      "needs_background": "light"
     },
     "output_type": "display_data"
    },
    {
     "name": "stdout",
     "output_type": "stream",
     "text": [
      "Prediction accuracy on training data is 95.85146053449347%\n",
      "Prediction accuracy on testing data is 95.6859495572013%\n"
     ]
    }
   ],
   "source": [
    "nn_structure = [17, 15, 2]\n",
    "    \n",
    "# train the NN\n",
    "W, b, avg_cost_func = train_nn(nn_structure, X_train, y_v_train, 3000)\n",
    "\n",
    "# plot the avg_cost_func\n",
    "plt.plot(avg_cost_func)\n",
    "plt.ylabel('Average J')\n",
    "plt.xlabel('Iteration number')\n",
    "plt.show()\n",
    "\n",
    "# get the prediction accuracy and print\n",
    "y_pred = predict_y(W, b, X_train, 3)\n",
    "print('Prediction accuracy on training data is {}%'.format(accuracy_score(y_train, y_pred) * 100))\n",
    "\n",
    "y_pred = predict_y(W, b, X_test, 3)\n",
    "print('Prediction accuracy on testing data is {}%'.format(accuracy_score(y_test, y_pred) * 100))"
   ]
  },
  {
   "cell_type": "markdown",
   "metadata": {},
   "source": [
    "## Neural Network with Sigmoid Function, 1000 Iterations, Alpha = 0.1, Lambda = 0.001\n",
    "Running the neural network using the sigmoid function as the activation function, 1000 iterations, alpha = 0.1, and lambda = 0.001.  \n",
    "Plotting the average cost per iteration and displaying the final train/test accuracy."
   ]
  },
  {
   "cell_type": "code",
   "execution_count": 169,
   "metadata": {},
   "outputs": [
    {
     "name": "stdout",
     "output_type": "stream",
     "text": [
      "Starting gradient descent for 1000 iterations\n",
      "Iteration 0 of 1000\n",
      "Iteration 100 of 1000\n",
      "Iteration 200 of 1000\n",
      "Iteration 300 of 1000\n",
      "Iteration 400 of 1000\n",
      "Iteration 500 of 1000\n",
      "Iteration 600 of 1000\n",
      "Iteration 700 of 1000\n",
      "Iteration 800 of 1000\n",
      "Iteration 900 of 1000\n"
     ]
    },
    {
     "data": {
      "image/png": "[encoded data removed]",
      "text/plain": [
       "<Figure size 432x288 with 1 Axes>"
      ]
     },
     "metadata": {
      "needs_background": "light"
     },
     "output_type": "display_data"
    },
    {
     "name": "stdout",
     "output_type": "stream",
     "text": [
      "Prediction accuracy on training data is 54.45152268489745%\n",
      "Prediction accuracy on testing data is 53.24719042933347%\n"
     ]
    }
   ],
   "source": [
    "nn_structure = [17, 15, 2]\n",
    "    \n",
    "# train the NN\n",
    "W, b, avg_cost_func = train_nn(nn_structure, X_train, y_v_train, 1000, 0.1)\n",
    "\n",
    "# plot the avg_cost_func\n",
    "plt.plot(avg_cost_func)\n",
    "plt.ylabel('Average J')\n",
    "plt.xlabel('Iteration number')\n",
    "plt.show()\n",
    "\n",
    "# get the prediction accuracy and print\n",
    "y_pred = predict_y(W, b, X_train, 3)\n",
    "print('Prediction accuracy on training data is {}%'.format(accuracy_score(y_train, y_pred) * 100))\n",
    "\n",
    "y_pred = predict_y(W, b, X_test, 3)\n",
    "print('Prediction accuracy on testing data is {}%'.format(accuracy_score(y_test, y_pred) * 100))"
   ]
  },
  {
   "cell_type": "markdown",
   "metadata": {},
   "source": [
    "## Neural Network with Sigmoid Function, 3000 Iterations, Alpha = 0.1, Lambda = 0.001\n",
    "Running the neural network using the sigmoid function as the activation function, 3000 iterations, alpha = 0.1, and lambda = 0.001.  \n",
    "Plotting the average cost per iteration and displaying the final train/test accuracy."
   ]
  },
  {
   "cell_type": "code",
   "execution_count": null,
   "metadata": {},
   "outputs": [],
   "source": [
    "nn_structure = [17, 15, 2]\n",
    "    \n",
    "# train the NN\n",
    "W, b, avg_cost_func = train_nn(nn_structure, X_train, y_v_train, 3000, 0.1)\n",
    "\n",
    "# plot the avg_cost_func\n",
    "plt.plot(avg_cost_func)\n",
    "plt.ylabel('Average J')\n",
    "plt.xlabel('Iteration number')\n",
    "plt.show()\n",
    "\n",
    "# get the prediction accuracy and print\n",
    "y_pred = predict_y(W, b, X_train, 3)\n",
    "print('Prediction accuracy on training data is {}%'.format(accuracy_score(y_train, y_pred) * 100))\n",
    "\n",
    "y_pred = predict_y(W, b, X_test, 3)\n",
    "print('Prediction accuracy on testing data is {}%'.format(accuracy_score(y_test, y_pred) * 100))"
   ]
  },
  {
   "cell_type": "markdown",
   "metadata": {},
   "source": [
    "## Neural Network with ReLU Function, 1000 Iterations, Alpha = 0.01, Lambda = 0.001\n",
    "\n",
    "Running the neural network using the ReLU function as the activation function, 1000 iterations, alpha = 0.01, and lambda = 0.001.  \n",
    "Plotting the average cost per iteration and displaying the final train/test accuracy."
   ]
  },
  {
   "cell_type": "code",
   "execution_count": 150,
   "metadata": {},
   "outputs": [
    {
     "name": "stdout",
     "output_type": "stream",
     "text": [
      "Starting gradient descent for 1000 iterations\n",
      "Iteration 0 of 1000\n",
      "Iteration 100 of 1000\n",
      "Iteration 200 of 1000\n",
      "Iteration 300 of 1000\n",
      "Iteration 400 of 1000\n",
      "Iteration 500 of 1000\n",
      "Iteration 600 of 1000\n",
      "Iteration 700 of 1000\n",
      "Iteration 800 of 1000\n",
      "Iteration 900 of 1000\n"
     ]
    },
    {
     "data": {
      "image/png": "[encoded data removed]",
      "text/plain": [
       "<Figure size 432x288 with 1 Axes>"
      ]
     },
     "metadata": {
      "needs_background": "light"
     },
     "output_type": "display_data"
    },
    {
     "name": "stdout",
     "output_type": "stream",
     "text": [
      "Prediction accuracy on training data is 51.82566811684276%\n",
      "Prediction accuracy on testing data is 50.657724377233414%\n"
     ]
    }
   ],
   "source": [
    "# Redefining f(z) and f_deriv(z) to set activation function to ReLU\n",
    "def f(z):\n",
    "    # ReLU\n",
    "    return np.maximum(np.zeros_like(z), z)\n",
    "\n",
    "def f_deriv(z):\n",
    "    # ReLU\n",
    "    z_ret = np.zeros_like(z)\n",
    "    for i in range(len(z)):\n",
    "        if z[i] < 0:\n",
    "            z_ret[i] = 0\n",
    "        elif z[i] >= 0:\n",
    "            z_ret[i] = 1\n",
    "    return z_ret\n",
    "\n",
    "# Redefining for ReLU initialization weights\n",
    "def setup_and_init_weights(nn_structure):\n",
    "    W = {} #creating a dictionary i.e. a set of key: value pairs\n",
    "    b = {}\n",
    "    for l in range(1, len(nn_structure)):\n",
    "        W[l] = r.normal(0, np.sqrt(2) * np.sqrt(2/ (nn_structure[l] + nn_structure[l-1])), (nn_structure[l], nn_structure[l-1])) #Return “continuous uniform” random floats in the half-open interval [0.0, 1.0). \n",
    "        b[l] = r.normal(0, np.sqrt(2) * np.sqrt(2/ (nn_structure[l])), (nn_structure[l],))\n",
    "    return W, b\n",
    "\n",
    "# Running neural network, plotting cost, and displaying accuracy\n",
    "\n",
    "nn_structure_r = [17, 15, 2]\n",
    "    \n",
    "# train the NN\n",
    "W_r, b_r, avg_cost_func_r = train_nn(nn_structure_r, X_train, y_train, 1000, 0.01)\n",
    "\n",
    "# plot the avg_cost_func\n",
    "plt.plot(avg_cost_func_r)\n",
    "plt.ylabel('Average J')\n",
    "plt.xlabel('Iteration number')\n",
    "plt.show()\n",
    "\n",
    "# get the prediction accuracy and print\n",
    "y_pred_r = predict_y(W_r, b_r, X_train, 3)\n",
    "print('Prediction accuracy on training data is {}%'.format(accuracy_score(y_train, y_pred_r) * 100))\n",
    "\n",
    "y_pred_r = predict_y(W_r, b_r, X_test, 3)\n",
    "print('Prediction accuracy on testing data is {}%'.format(accuracy_score(y_test, y_pred_r) * 100))"
   ]
  },
  {
   "cell_type": "markdown",
   "metadata": {},
   "source": [
    "## Neural Network with ReLU Function, 3000 Iterations, Alpha = 0.01, Lambda = 0.001\n",
    "\n",
    "Running the neural network using the ReLU function as the activation function, 3000 iterations, alpha = 0.01, and lambda = 0.001.  \n",
    "Plotting the average cost per iteration and displaying the final train/test accuracy."
   ]
  },
  {
   "cell_type": "code",
   "execution_count": null,
   "metadata": {},
   "outputs": [
    {
     "name": "stdout",
     "output_type": "stream",
     "text": [
      "Starting gradient descent for 3000 iterations\n",
      "Iteration 0 of 3000\n",
      "Iteration 100 of 3000\n",
      "Iteration 200 of 3000\n",
      "Iteration 300 of 3000\n",
      "Iteration 400 of 3000\n",
      "Iteration 500 of 3000\n",
      "Iteration 600 of 3000\n",
      "Iteration 700 of 3000\n",
      "Iteration 800 of 3000\n",
      "Iteration 900 of 3000\n",
      "Iteration 1000 of 3000\n",
      "Iteration 1100 of 3000\n",
      "Iteration 1200 of 3000\n",
      "Iteration 1300 of 3000\n",
      "Iteration 1400 of 3000\n",
      "Iteration 1500 of 3000\n",
      "Iteration 1600 of 3000\n",
      "Iteration 1700 of 3000\n",
      "Iteration 1800 of 3000\n",
      "Iteration 1900 of 3000\n",
      "Iteration 2000 of 3000\n",
      "Iteration 2100 of 3000\n"
     ]
    }
   ],
   "source": [
    "# train the NN with 0.01 alpha\n",
    "W_r, b_r, avg_cost_func_r = train_nn(nn_structure_r, X_train, y_train, 3000, 0.01)\n",
    "\n",
    "# plot the avg_cost_func\n",
    "plt.plot(avg_cost_func_r)\n",
    "plt.ylabel('Average J')\n",
    "plt.xlabel('Iteration number')\n",
    "plt.show()\n",
    "\n",
    "# get the prediction accuracy and print\n",
    "y_pred_r = predict_y(W_r, b_r, X_train, 3)\n",
    "print('Prediction accuracy on training data is {}%'.format(accuracy_score(y_train, y_pred_r) * 100))\n",
    "\n",
    "y_pred_r = predict_y(W_r, b_r, X_test, 3)\n",
    "print('Prediction accuracy on testing data is {}%'.format(accuracy_score(y_test, y_pred_r) * 100))"
   ]
  },
  {
   "cell_type": "markdown",
   "metadata": {},
   "source": [
    "## Neural Network with ReLU Function, 1000 Iterations, Alpha = 0.25, Lambda = 0.001\n",
    "\n",
    "Running the neural network using the ReLU function as the activation function, 1000 iterations, alpha = 0.25, and lambda = 0.001.  \n",
    "Plotting the average cost per iteration and displaying the final train/test accuracy."
   ]
  },
  {
   "cell_type": "code",
   "execution_count": 151,
   "metadata": {},
   "outputs": [
    {
     "name": "stdout",
     "output_type": "stream",
     "text": [
      "Starting gradient descent for 1000 iterations\n",
      "Iteration 0 of 1000\n",
      "Iteration 100 of 1000\n",
      "Iteration 200 of 1000\n",
      "Iteration 300 of 1000\n",
      "Iteration 400 of 1000\n",
      "Iteration 500 of 1000\n",
      "Iteration 600 of 1000\n",
      "Iteration 700 of 1000\n",
      "Iteration 800 of 1000\n",
      "Iteration 900 of 1000\n"
     ]
    },
    {
     "data": {
      "image/png": "[encoded data removed]",
      "text/plain": [
       "<Figure size 432x288 with 1 Axes>"
      ]
     },
     "metadata": {
      "needs_background": "light"
     },
     "output_type": "display_data"
    },
    {
     "name": "stdout",
     "output_type": "stream",
     "text": [
      "Prediction accuracy on training data is 68.00031075201989%\n",
      "Prediction accuracy on testing data is 67.55140090113419%\n"
     ]
    }
   ],
   "source": [
    "# train the NN with 0.25 alpha\n",
    "W_r, b_r, avg_cost_func_r = train_nn(nn_structure_r, X_train, y_train, 1000)\n",
    "\n",
    "# plot the avg_cost_func\n",
    "plt.plot(avg_cost_func_r)\n",
    "plt.ylabel('Average J')\n",
    "plt.xlabel('Iteration number')\n",
    "plt.show()\n",
    "\n",
    "# get the prediction accuracy and print\n",
    "y_pred_r = predict_y(W_r, b_r, X_train, 3)\n",
    "print('Prediction accuracy on training data is {}%'.format(accuracy_score(y_train, y_pred_r) * 100))\n",
    "\n",
    "y_pred_r = predict_y(W_r, b_r, X_test, 3)\n",
    "print('Prediction accuracy on testing data is {}%'.format(accuracy_score(y_test, y_pred_r) * 100))"
   ]
  },
  {
   "cell_type": "markdown",
   "metadata": {},
   "source": [
    "## Neural Network with ReLU Function, 3000 Iterations, Alpha = 0.25, Lambda = 0.001\n",
    "\n",
    "Running the neural network using the ReLU function as the activation function, 3000 iterations, alpha = 0.25, and lambda = 0.001.  \n",
    "Plotting the average cost per iteration and displaying the final train/test accuracy."
   ]
  },
  {
   "cell_type": "code",
   "execution_count": 152,
   "metadata": {},
   "outputs": [
    {
     "name": "stdout",
     "output_type": "stream",
     "text": [
      "Starting gradient descent for 3000 iterations\n",
      "Iteration 0 of 3000\n",
      "Iteration 100 of 3000\n",
      "Iteration 200 of 3000\n",
      "Iteration 300 of 3000\n",
      "Iteration 400 of 3000\n",
      "Iteration 500 of 3000\n",
      "Iteration 600 of 3000\n",
      "Iteration 700 of 3000\n",
      "Iteration 800 of 3000\n",
      "Iteration 900 of 3000\n",
      "Iteration 1000 of 3000\n",
      "Iteration 1100 of 3000\n",
      "Iteration 1200 of 3000\n",
      "Iteration 1300 of 3000\n",
      "Iteration 1400 of 3000\n",
      "Iteration 1500 of 3000\n",
      "Iteration 1600 of 3000\n",
      "Iteration 1700 of 3000\n",
      "Iteration 1800 of 3000\n",
      "Iteration 1900 of 3000\n",
      "Iteration 2000 of 3000\n",
      "Iteration 2100 of 3000\n",
      "Iteration 2200 of 3000\n",
      "Iteration 2300 of 3000\n",
      "Iteration 2400 of 3000\n",
      "Iteration 2500 of 3000\n",
      "Iteration 2600 of 3000\n",
      "Iteration 2700 of 3000\n",
      "Iteration 2800 of 3000\n",
      "Iteration 2900 of 3000\n"
     ]
    },
    {
     "data": {
      "image/png": "[encoded data removed]",
      "text/plain": [
       "<Figure size 432x288 with 1 Axes>"
      ]
     },
     "metadata": {
      "needs_background": "light"
     },
     "output_type": "display_data"
    },
    {
     "name": "stdout",
     "output_type": "stream",
     "text": [
      "Prediction accuracy on training data is 74.66594157862026%\n",
      "Prediction accuracy on testing data is 73.71174063908022%\n"
     ]
    }
   ],
   "source": [
    "# train the NN with 0.25 alpha and 3000 iters\n",
    "W_r, b_r, avg_cost_func_r = train_nn(nn_structure_r, X_train, y_train, 3000)\n",
    "\n",
    "# plot the avg_cost_func\n",
    "plt.plot(avg_cost_func_r)\n",
    "plt.ylabel('Average J')\n",
    "plt.xlabel('Iteration number')\n",
    "plt.show()\n",
    "\n",
    "# get the prediction accuracy and print\n",
    "y_pred_r = predict_y(W_r, b_r, X_train, 3)\n",
    "print('Prediction accuracy on training data is {}%'.format(accuracy_score(y_train, y_pred_r) * 100))\n",
    "\n",
    "y_pred_r = predict_y(W_r, b_r, X_test, 3)\n",
    "print('Prediction accuracy on testing data is {}%'.format(accuracy_score(y_test, y_pred_r) * 100))"
   ]
  },
  {
   "cell_type": "markdown",
   "metadata": {},
   "source": [
    "## Neural Network with Leaky ReLU Function, 1000 Iterations, Alpha = 0.25, Lambda = 0.001\n",
    "\n",
    "Running the neural network using the Leaky ReLU function as the activation function, 1000 iterations, alpha = 0.25, and lambda = 0.001.  \n",
    "Plotting the average cost per iteration and displaying the final train/test accuracy."
   ]
  },
  {
   "cell_type": "code",
   "execution_count": 160,
   "metadata": {},
   "outputs": [
    {
     "name": "stdout",
     "output_type": "stream",
     "text": [
      "Starting gradient descent for 1000 iterations\n",
      "Iteration 0 of 1000\n",
      "Iteration 100 of 1000\n",
      "Iteration 200 of 1000\n",
      "Iteration 300 of 1000\n",
      "Iteration 400 of 1000\n",
      "Iteration 500 of 1000\n",
      "Iteration 600 of 1000\n",
      "Iteration 700 of 1000\n",
      "Iteration 800 of 1000\n",
      "Iteration 900 of 1000\n"
     ]
    },
    {
     "data": {
      "image/png": "[encoded data removed]",
      "text/plain": [
       "<Figure size 432x288 with 1 Axes>"
      ]
     },
     "metadata": {
      "needs_background": "light"
     },
     "output_type": "display_data"
    },
    {
     "name": "stdout",
     "output_type": "stream",
     "text": [
      "Prediction accuracy on training data is 69.81044126786824%\n",
      "Prediction accuracy on testing data is 69.76280490962763%\n"
     ]
    }
   ],
   "source": [
    "# Redefining f(z) and f_deriv(z) to set activation function to Leaky ReLU\n",
    "def f(z):\n",
    "    # Leaky ReLU\n",
    "    return np.maximum(0.01 * z, z)\n",
    "\n",
    "def f_deriv(z):\n",
    "    # Leaky ReLU\n",
    "    z_ret = np.zeros_like(z)\n",
    "    for i in range(len(z)):\n",
    "        if z[i] < 0:\n",
    "            z_ret[i] = 0.01\n",
    "        elif z[i] >= 0:\n",
    "            z_ret[i] = 1\n",
    "    return z_ret\n",
    "\n",
    "# Running neural network, plotting cost, and displaying accuracy\n",
    "\n",
    "nn_structure_lr = [17, 15, 2]\n",
    "    \n",
    "# train the NN\n",
    "W_lr, b_lr, avg_cost_func_lr = train_nn(nn_structure_lr, X_train, y_train, 1000)\n",
    "\n",
    "# plot the avg_cost_func\n",
    "plt.plot(avg_cost_func_lr)\n",
    "plt.ylabel('Average J')\n",
    "plt.xlabel('Iteration number')\n",
    "plt.show()\n",
    "\n",
    "# get the prediction accuracy and print\n",
    "y_pred_lr = predict_y(W_lr, b_lr, X_train, 3)\n",
    "print('Prediction accuracy on training data is {}%'.format(accuracy_score(y_train, y_pred_lr) * 100))\n",
    "\n",
    "y_pred_lr = predict_y(W_lr, b_lr, X_test, 3)\n",
    "print('Prediction accuracy on testing data is {}%'.format(accuracy_score(y_test, y_pred_lr) * 100))"
   ]
  },
  {
   "cell_type": "markdown",
   "metadata": {},
   "source": [
    "## Neural Network with Leaky ReLU Function, 2000 Iterations, Alpha = 0.25, Lambda = 0.001\n",
    "\n",
    "Running the neural network using the Leaky ReLU function as the activation function, 2000 iterations, alpha = 0.25, and lambda = 0.001.  \n",
    "Plotting the average cost per iteration and displaying the final train/test accuracy."
   ]
  },
  {
   "cell_type": "code",
   "execution_count": 158,
   "metadata": {},
   "outputs": [
    {
     "name": "stdout",
     "output_type": "stream",
     "text": [
      "Starting gradient descent for 2000 iterations\n",
      "Iteration 0 of 2000\n",
      "Iteration 100 of 2000\n",
      "Iteration 200 of 2000\n",
      "Iteration 300 of 2000\n",
      "Iteration 400 of 2000\n",
      "Iteration 500 of 2000\n",
      "Iteration 600 of 2000\n",
      "Iteration 700 of 2000\n",
      "Iteration 800 of 2000\n",
      "Iteration 900 of 2000\n",
      "Iteration 1000 of 2000\n",
      "Iteration 1100 of 2000\n",
      "Iteration 1200 of 2000\n",
      "Iteration 1300 of 2000\n",
      "Iteration 1400 of 2000\n",
      "Iteration 1500 of 2000\n",
      "Iteration 1600 of 2000\n",
      "Iteration 1700 of 2000\n",
      "Iteration 1800 of 2000\n",
      "Iteration 1900 of 2000\n"
     ]
    },
    {
     "data": {
      "image/png": "[encoded data removed]",
      "text/plain": [
       "<Figure size 432x288 with 1 Axes>"
      ]
     },
     "metadata": {
      "needs_background": "light"
     },
     "output_type": "display_data"
    },
    {
     "name": "stdout",
     "output_type": "stream",
     "text": [
      "Prediction accuracy on training data is 50.800186451211935%\n",
      "Prediction accuracy on testing data is 51.06427054741312%\n"
     ]
    }
   ],
   "source": [
    "# Running neural network, plotting cost, and displaying accuracy\n",
    "\n",
    "nn_structure_lr = [17, 15, 2]\n",
    "    \n",
    "# train the NN\n",
    "W_lr, b_lr, avg_cost_func_lr = train_nn(nn_structure_lr, X_train, y_train, 2000)\n",
    "\n",
    "# plot the avg_cost_func\n",
    "plt.plot(avg_cost_func_lr)\n",
    "plt.ylabel('Average J')\n",
    "plt.xlabel('Iteration number')\n",
    "plt.show()\n",
    "\n",
    "# get the prediction accuracy and print\n",
    "y_pred_lr = predict_y(W_lr, b_lr, X_train, 3)\n",
    "print('Prediction accuracy on training data is {}%'.format(accuracy_score(y_train, y_pred_lr) * 100))\n",
    "\n",
    "y_pred_lr = predict_y(W_lr, b_lr, X_test, 3)\n",
    "print('Prediction accuracy on testing data is {}%'.format(accuracy_score(y_test, y_pred_lr) * 100))"
   ]
  },
  {
   "cell_type": "markdown",
   "metadata": {},
   "source": [
    "## Neural Network with Leaky ReLU Function, 1000 Iterations, Alpha = 0.01, Lambda = 0.001\n",
    "\n",
    "Running the neural network using the Leaky ReLU function as the activation function, 1000 iterations, alpha = 0.01, and lambda = 0.001.  \n",
    "Plotting the average cost per iteration and displaying the final train/test accuracy."
   ]
  },
  {
   "cell_type": "code",
   "execution_count": 154,
   "metadata": {},
   "outputs": [
    {
     "name": "stdout",
     "output_type": "stream",
     "text": [
      "Starting gradient descent for 1000 iterations\n",
      "Iteration 0 of 1000\n",
      "Iteration 100 of 1000\n",
      "Iteration 200 of 1000\n",
      "Iteration 300 of 1000\n",
      "Iteration 400 of 1000\n",
      "Iteration 500 of 1000\n",
      "Iteration 600 of 1000\n",
      "Iteration 700 of 1000\n",
      "Iteration 800 of 1000\n",
      "Iteration 900 of 1000\n"
     ]
    },
    {
     "data": {
      "image/png": "[encoded data removed]",
      "text/plain": [
       "<Figure size 432x288 with 1 Axes>"
      ]
     },
     "metadata": {
      "needs_background": "light"
     },
     "output_type": "display_data"
    },
    {
     "name": "stdout",
     "output_type": "stream",
     "text": [
      "Prediction accuracy on training data is 46.068986948415166%\n",
      "Prediction accuracy on testing data is 45.92159096794241%\n"
     ]
    }
   ],
   "source": [
    "# Running neural network, plotting cost, and displaying accuracy\n",
    "\n",
    "nn_structure_lr = [17, 15, 2]\n",
    "    \n",
    "# train the NN\n",
    "W_lr, b_lr, avg_cost_func_lr = train_nn(nn_structure_lr, X_train, y_train, 1000, 0.01)\n",
    "\n",
    "# plot the avg_cost_func\n",
    "plt.plot(avg_cost_func_lr)\n",
    "plt.ylabel('Average J')\n",
    "plt.xlabel('Iteration number')\n",
    "plt.show()\n",
    "\n",
    "# get the prediction accuracy and print\n",
    "y_pred_lr = predict_y(W_lr, b_lr, X_train, 3)\n",
    "print('Prediction accuracy on training data is {}%'.format(accuracy_score(y_train, y_pred_lr) * 100))\n",
    "\n",
    "y_pred_lr = predict_y(W_lr, b_lr, X_test, 3)\n",
    "print('Prediction accuracy on testing data is {}%'.format(accuracy_score(y_test, y_pred_lr) * 100))"
   ]
  },
  {
   "cell_type": "markdown",
   "metadata": {},
   "source": [
    "## Neural Network with Leaky ReLU Function, 3000 Iterations, Alpha = 0.01, Lambda = 0.001\n",
    "\n",
    "Running the neural network using the Leaky ReLU function as the activation function, 3000 iterations, alpha = 0.01, and lambda = 0.001.  \n",
    "Plotting the average cost per iteration and displaying the final train/test accuracy."
   ]
  },
  {
   "cell_type": "code",
   "execution_count": 156,
   "metadata": {},
   "outputs": [
    {
     "name": "stdout",
     "output_type": "stream",
     "text": [
      "Starting gradient descent for 3000 iterations\n",
      "Iteration 0 of 3000\n",
      "Iteration 100 of 3000\n",
      "Iteration 200 of 3000\n",
      "Iteration 300 of 3000\n",
      "Iteration 400 of 3000\n",
      "Iteration 500 of 3000\n",
      "Iteration 600 of 3000\n",
      "Iteration 700 of 3000\n",
      "Iteration 800 of 3000\n",
      "Iteration 900 of 3000\n",
      "Iteration 1000 of 3000\n",
      "Iteration 1100 of 3000\n",
      "Iteration 1200 of 3000\n",
      "Iteration 1300 of 3000\n",
      "Iteration 1400 of 3000\n",
      "Iteration 1500 of 3000\n",
      "Iteration 1600 of 3000\n",
      "Iteration 1700 of 3000\n",
      "Iteration 1800 of 3000\n",
      "Iteration 1900 of 3000\n",
      "Iteration 2000 of 3000\n",
      "Iteration 2100 of 3000\n",
      "Iteration 2200 of 3000\n",
      "Iteration 2300 of 3000\n",
      "Iteration 2400 of 3000\n",
      "Iteration 2500 of 3000\n",
      "Iteration 2600 of 3000\n",
      "Iteration 2700 of 3000\n",
      "Iteration 2800 of 3000\n",
      "Iteration 2900 of 3000\n"
     ]
    },
    {
     "data": {
      "image/png": "[encoded data removed]",
      "text/plain": [
       "<Figure size 432x288 with 1 Axes>"
      ]
     },
     "metadata": {
      "needs_background": "light"
     },
     "output_type": "display_data"
    },
    {
     "name": "stdout",
     "output_type": "stream",
     "text": [
      "Prediction accuracy on training data is 57.147296457426975%\n",
      "Prediction accuracy on testing data is 56.957895281992855%\n"
     ]
    }
   ],
   "source": [
    "# Running neural network, plotting cost, and displaying accuracy\n",
    "\n",
    "nn_structure_lr = [17, 15, 2]\n",
    "    \n",
    "# train the NN\n",
    "W_lr, b_lr, avg_cost_func_lr = train_nn(nn_structure_lr, X_train, y_train, 3000, 0.01)\n",
    "\n",
    "# plot the avg_cost_func\n",
    "plt.plot(avg_cost_func_lr)\n",
    "plt.ylabel('Average J')\n",
    "plt.xlabel('Iteration number')\n",
    "plt.show()\n",
    "\n",
    "# get the prediction accuracy and print\n",
    "y_pred_lr = predict_y(W_lr, b_lr, X_train, 3)\n",
    "print('Prediction accuracy on training data is {}%'.format(accuracy_score(y_train, y_pred_lr) * 100))\n",
    "\n",
    "y_pred_lr = predict_y(W_lr, b_lr, X_test, 3)\n",
    "print('Prediction accuracy on testing data is {}%'.format(accuracy_score(y_test, y_pred_lr) * 100))"
   ]
  },
  {
   "cell_type": "markdown",
   "metadata": {},
   "source": [
    "## Neural Network with Leaky ReLU Function, 6000 Iterations, Alpha = 0.01, Lambda = 0.001\n",
    "\n",
    "Running the neural network using the Leaky ReLU function as the activation function, 6000 iterations, alpha = 0.01, and lambda = 0.001.  \n",
    "Plotting the average cost per iteration and displaying the final train/test accuracy."
   ]
  },
  {
   "cell_type": "code",
   "execution_count": 161,
   "metadata": {},
   "outputs": [
    {
     "name": "stdout",
     "output_type": "stream",
     "text": [
      "Starting gradient descent for 6000 iterations\n",
      "Iteration 0 of 6000\n",
      "Iteration 100 of 6000\n",
      "Iteration 200 of 6000\n",
      "Iteration 300 of 6000\n",
      "Iteration 400 of 6000\n",
      "Iteration 500 of 6000\n",
      "Iteration 600 of 6000\n",
      "Iteration 700 of 6000\n",
      "Iteration 800 of 6000\n",
      "Iteration 900 of 6000\n",
      "Iteration 1000 of 6000\n",
      "Iteration 1100 of 6000\n",
      "Iteration 1200 of 6000\n",
      "Iteration 1300 of 6000\n",
      "Iteration 1400 of 6000\n",
      "Iteration 1500 of 6000\n",
      "Iteration 1600 of 6000\n",
      "Iteration 1700 of 6000\n",
      "Iteration 1800 of 6000\n",
      "Iteration 1900 of 6000\n",
      "Iteration 2000 of 6000\n",
      "Iteration 2100 of 6000\n",
      "Iteration 2200 of 6000\n",
      "Iteration 2300 of 6000\n",
      "Iteration 2400 of 6000\n",
      "Iteration 2500 of 6000\n",
      "Iteration 2600 of 6000\n",
      "Iteration 2700 of 6000\n",
      "Iteration 2800 of 6000\n",
      "Iteration 2900 of 6000\n",
      "Iteration 3000 of 6000\n",
      "Iteration 3100 of 6000\n",
      "Iteration 3200 of 6000\n",
      "Iteration 3300 of 6000\n",
      "Iteration 3400 of 6000\n",
      "Iteration 3500 of 6000\n",
      "Iteration 3600 of 6000\n",
      "Iteration 3700 of 6000\n",
      "Iteration 3800 of 6000\n",
      "Iteration 3900 of 6000\n",
      "Iteration 4000 of 6000\n",
      "Iteration 4100 of 6000\n",
      "Iteration 4200 of 6000\n",
      "Iteration 4300 of 6000\n",
      "Iteration 4400 of 6000\n",
      "Iteration 4500 of 6000\n",
      "Iteration 4600 of 6000\n",
      "Iteration 4700 of 6000\n",
      "Iteration 4800 of 6000\n",
      "Iteration 4900 of 6000\n",
      "Iteration 5000 of 6000\n",
      "Iteration 5100 of 6000\n",
      "Iteration 5200 of 6000\n",
      "Iteration 5300 of 6000\n",
      "Iteration 5400 of 6000\n",
      "Iteration 5500 of 6000\n",
      "Iteration 5600 of 6000\n",
      "Iteration 5700 of 6000\n",
      "Iteration 5800 of 6000\n",
      "Iteration 5900 of 6000\n"
     ]
    },
    {
     "data": {
      "image/png": "[encoded data removed]",
      "text/plain": [
       "<Figure size 432x288 with 1 Axes>"
      ]
     },
     "metadata": {
      "needs_background": "light"
     },
     "output_type": "display_data"
    },
    {
     "name": "stdout",
     "output_type": "stream",
     "text": [
      "Prediction accuracy on training data is 31.07520198881293%\n",
      "Prediction accuracy on testing data is 31.718369672173598%\n"
     ]
    }
   ],
   "source": [
    "# Running neural network, plotting cost, and displaying accuracy\n",
    "\n",
    "nn_structure_lr = [17, 15, 2]\n",
    "    \n",
    "# train the NN\n",
    "W_lr, b_lr, avg_cost_func_lr = train_nn(nn_structure_lr, X_train, y_train, 6000, 0.01)\n",
    "\n",
    "# plot the avg_cost_func\n",
    "plt.plot(avg_cost_func_lr)\n",
    "plt.ylabel('Average J')\n",
    "plt.xlabel('Iteration number')\n",
    "plt.show()\n",
    "\n",
    "# get the prediction accuracy and print\n",
    "y_pred_lr = predict_y(W_lr, b_lr, X_train, 3)\n",
    "print('Prediction accuracy on training data is {}%'.format(accuracy_score(y_train, y_pred_lr) * 100))\n",
    "\n",
    "y_pred_lr = predict_y(W_lr, b_lr, X_test, 3)\n",
    "print('Prediction accuracy on testing data is {}%'.format(accuracy_score(y_test, y_pred_lr) * 100))"
   ]
  },
  {
   "cell_type": "code",
   "execution_count": null,
   "metadata": {},
   "outputs": [],
   "source": []
  }
 ],
 "metadata": {
  "kernelspec": {
   "display_name": "Python 3",
   "language": "python",
   "name": "python3"
  },
  "language_info": {
   "codemirror_mode": {
    "name": "ipython",
    "version": 3
   },
   "file_extension": ".py",
   "mimetype": "text/x-python",
   "name": "python",
   "nbconvert_exporter": "python",
   "pygments_lexer": "ipython3",
   "version": "3.8.5"
  }
 },
 "nbformat": 4,
 "nbformat_minor": 4
}
